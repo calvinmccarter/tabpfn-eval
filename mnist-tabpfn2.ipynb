{
 "cells": [
  {
   "cell_type": "code",
   "execution_count": null,
   "id": "a21e16dc-aa83-4dcc-8d53-76877d1a8702",
   "metadata": {},
   "outputs": [],
   "source": [
    "import os\n",
    "import warnings\n",
    "import pandas as pd\n",
    "import numpy as np\n",
    "import seaborn as sns\n",
    "\n",
    "import sklearn as skl\n",
    "import matplotlib.pyplot as plt\n",
    "import sklearn.metrics as skmr\n",
    "import xgboost as xgb\n",
    "from sklearn.neighbors import KNeighborsClassifier\n",
    "from tabpfn import TabPFNClassifier\n",
    "from sklearn.svm import SVC\n",
    "from sklearn.model_selection import train_test_split\n",
    "from sklearn.utils import check_random_state\n",
    "\n",
    "from IPython.display import clear_output"
   ]
  },
  {
   "cell_type": "code",
   "execution_count": null,
   "id": "55988fcb-8312-41dd-845f-b967633f1d94",
   "metadata": {},
   "outputs": [],
   "source": [
    "X_train = np.load(\"../TabPFN/mnist_train_X.npy\")\n",
    "y_train = np.load(\"../TabPFN/mnist_train_y.npy\")\n",
    "X_test = np.load(\"../TabPFN/mnist_test_X.npy\")\n",
    "y_test = np.load(\"../TabPFN/mnist_test_y.npy\")\n",
    "rng = check_random_state(42)\n",
    "A = rng.normal(size=(28*28, 11))\n",
    "test_samples = rng.choice(X_test.shape[0], 100)\n",
    "XX_test = X_test[test_samples, :, :]\n",
    "yy_test = y_test[test_samples]"
   ]
  },
  {
   "cell_type": "code",
   "execution_count": null,
   "id": "c521d8bf-df20-46a5-a166-2a9d2477e04a",
   "metadata": {},
   "outputs": [],
   "source": [
    "methods = [\n",
    "    (\"SVC\", SVC()),\n",
    "    (\"LR\", skl.linear_model.LogisticRegression()),\n",
    "    #(\"kNN\", KNeighborsClassifier()),\n",
    "    (\"XGBoost\", xgb.XGBClassifier()),\n",
    "    (\"TabPFN\", TabPFNClassifier(device='cpu')),\n",
    "]\n",
    "\n",
    "n_random = 10\n",
    "n_samples_list = [30, 100, 300, 1000]\n",
    "n_n_samples = len(n_samples_list)\n",
    "accs = np.zeros((len(methods), n_n_samples, n_random))\n",
    "f1s = np.zeros((len(methods), n_n_samples, n_random))\n",
    "for nix, n_samples in enumerate(n_samples_list):\n",
    "    for rix in range(n_random):\n",
    "        _, cur_X_train, _, cur_y_train = train_test_split(\n",
    "            X_train, y_train, test_size=n_samples / 60000, random_state=rix, stratify=y_train)\n",
    "        rng = check_random_state(rix)\n",
    "        for mix, (mname, method) in enumerate(methods):\n",
    "            model = method\n",
    "            model.fit(cur_X_train.reshape(-1, 28*28) @ A, cur_y_train)\n",
    "            y_test_pred = model.predict(XX_test.reshape(-1, 28*28) @ A)\n",
    "            accs[mix, nix, rix] = skmr.accuracy_score(yy_test, y_test_pred)\n",
    "            f1s[mix, nix, rix] = skmr.f1_score(yy_test, y_test_pred, average=\"macro\")\n",
    "clear_output()"
   ]
  },
  {
   "cell_type": "code",
   "execution_count": null,
   "id": "f7ef7455-4bb2-4be4-9c89-86dda3171d7f",
   "metadata": {},
   "outputs": [],
   "source": [
    "fig, axes = plt.subplots(figsize=(5, 7), nrows=4, sharex=True);\n",
    "for nix, n_samples in enumerate(n_samples_list):\n",
    "    cur_accs = accs[:, nix, :]\n",
    "    accs_df = pd.DataFrame(data=cur_accs, index=[mname for mname, _ in methods]).T\n",
    "    sns.kdeplot(data=accs_df, clip=(0, 1), ax=axes[nix], legend=nix == 3)\n",
    "    if nix == 3:\n",
    "        axes[nix].set_xlabel(\"Accuracy\");\n",
    "    axes[nix].set_title(f\"{n_samples} training samples\");\n",
    "    axes[nix].set_xticks([0., 0.2, 0.4, 0.6, 0.8, 1.]);\n",
    "plt.tight_layout();"
   ]
  },
  {
   "cell_type": "code",
   "execution_count": null,
   "id": "b75507cd-fea3-4245-9ec9-bd67102f7c02",
   "metadata": {},
   "outputs": [],
   "source": []
  }
 ],
 "metadata": {
  "kernelspec": {
   "display_name": "Python 3 (ipykernel)",
   "language": "python",
   "name": "python3"
  },
  "language_info": {
   "codemirror_mode": {
    "name": "ipython",
    "version": 3
   },
   "file_extension": ".py",
   "mimetype": "text/x-python",
   "name": "python",
   "nbconvert_exporter": "python",
   "pygments_lexer": "ipython3",
   "version": "3.9.21"
  }
 },
 "nbformat": 4,
 "nbformat_minor": 5
}

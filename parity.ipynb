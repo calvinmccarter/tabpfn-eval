{
 "cells": [
  {
   "cell_type": "code",
   "execution_count": null,
   "id": "290b25de-bfe4-46e6-88f7-7b9e2c9039c7",
   "metadata": {},
   "outputs": [],
   "source": [
    "def warn(*args, **kwargs):\n",
    "    pass\n",
    "import warnings\n",
    "warnings.warn = warn\n",
    "\n",
    "import itertools\n",
    "import os\n",
    "import warnings\n",
    "import pandas as pd\n",
    "import numpy as np\n",
    "import seaborn as sns\n",
    "\n",
    "import matplotlib.pyplot as plt\n",
    "import sklearn as skl\n",
    "import scipy.stats as spst\n",
    "import sklearn.metrics as skmr\n",
    "import xgboost as xgb\n",
    "from tabpfn import TabPFNClassifier\n",
    "from sklearn.svm import SVC\n",
    "from sklearn.model_selection import train_test_split\n",
    "from sklearn.utils import check_random_state"
   ]
  },
  {
   "cell_type": "code",
   "execution_count": null,
   "id": "c1d02c5e-06f8-435c-9130-04b511aa0966",
   "metadata": {},
   "outputs": [],
   "source": [
    "Ds = list(range(3, 14))\n",
    "method_infos = [\n",
    "    (\"XGBoost\", xgb.XGBClassifier()),\n",
    "    (\"TabPFN-v2 (1)\", TabPFNClassifier(device='cpu', n_estimators=1)),\n",
    "    (\"TabPFN-v2 (4)\", TabPFNClassifier(device='cpu', n_estimators=4)),\n",
    "    (\"TabPFN-v2 (16)\", TabPFNClassifier(device='cpu', n_estimators=16)),\n",
    "]"
   ]
  },
  {
   "cell_type": "code",
   "execution_count": null,
   "id": "b0600983-4cdf-4330-989a-21c708399837",
   "metadata": {},
   "outputs": [],
   "source": [
    "results_dict = {mname : {} for mname, _ in method_infos} \n",
    "pvalues_dict = {mname : {} for mname, _ in method_infos} \n",
    "for D in Ds:\n",
    "    X = np.array(list(itertools.product([False, True], repeat=D))).astype(int)\n",
    "    N = X.shape[0]\n",
    "    y = np.sum(X, axis=1) % 2\n",
    "    for mname, method in method_infos:\n",
    "        y_test_agg = []\n",
    "        y_test_pred_agg = []\n",
    "        for n in range(N):\n",
    "            X_train = np.r_[X[0:n, :], X[n+1:, :]]\n",
    "            y_train = np.r_[y[0:n], y[n+1:]]\n",
    "            X_test = X[n:n+1, :]\n",
    "            y_test = y[n:n+1]\n",
    "            method.fit(X_train, y_train)\n",
    "            y_test_pred = method.predict(X_test)\n",
    "            y_test_agg.append(y_test)\n",
    "            y_test_pred_agg.append(y_test_pred)\n",
    "        y_test_agg = np.concatenate(y_test_agg)\n",
    "        y_test_pred_agg = np.concatenate(y_test_pred_agg)\n",
    "        is_correct = (y_test_agg == y_test_pred_agg)\n",
    "        acc = np.mean(is_correct)\n",
    "        print(D, mname, acc)\n",
    "        results_dict[mname][D] = acc\n",
    "        pvalues_dict[mname][D] = spst.binomtest(k=np.sum(is_correct), n=N, p=0.5, alternative='greater').pvalue"
   ]
  },
  {
   "cell_type": "code",
   "execution_count": null,
   "id": "d42613ae-99bc-4ae0-a54a-db4876ed8b05",
   "metadata": {},
   "outputs": [],
   "source": [
    "display(pd.DataFrame(results_dict))\n",
    "\n",
    "ax = pd.DataFrame(results_dict).plot(marker='o')\n",
    "ax.set_xticks(Ds)\n",
    "#pd.DataFrame(results_dict).plot.bar(rot=0, ax=ax)\n",
    "plt.savefig('parity-Nminus1.pdf')\n",
    "plt.grid(True)"
   ]
  },
  {
   "cell_type": "code",
   "execution_count": null,
   "id": "ff31d857-9198-40a7-8c2f-aaff5b099a76",
   "metadata": {},
   "outputs": [],
   "source": [
    "halfresults_dict = {mname : {} for mname, _ in method_infos} \n",
    "for D in Ds:\n",
    "    X = np.array(list(itertools.product([False, True], repeat=D))).astype(int)\n",
    "    N = X.shape[0]\n",
    "    y = np.sum(X, axis=1) % 2\n",
    "    for mname, method in method_infos:\n",
    "        y_test_agg = []\n",
    "        y_test_pred_agg = []\n",
    "        for n in range(N):\n",
    "            X_train = np.r_[X[0:n, :], X[n+1:, :]]\n",
    "            y_train = np.r_[y[0:n], y[n+1:]]\n",
    "            rng = check_random_state(n)\n",
    "            train_ixs = rng.choice(N - 1, size=N // 2, replace=False)\n",
    "            X_train = X_train[train_ixs, :]\n",
    "            y_train = y_train[train_ixs]\n",
    "            X_test = X[n:n+1, :]\n",
    "            y_test = y[n:n+1]\n",
    "            method.fit(X_train, y_train)\n",
    "            y_test_pred = method.predict(X_test)\n",
    "            y_test_agg.append(y_test)\n",
    "            y_test_pred_agg.append(y_test_pred)\n",
    "        y_test_agg = np.concatenate(y_test_agg)\n",
    "        y_test_pred_agg = np.concatenate(y_test_pred_agg)\n",
    "        acc = np.mean(y_test_agg == y_test_pred_agg)\n",
    "        print(D, mname, acc)\n",
    "        halfresults_dict[mname][D] = acc"
   ]
  },
  {
   "cell_type": "code",
   "execution_count": null,
   "id": "01de6f3e-b505-4110-a62c-703f63293e4c",
   "metadata": {},
   "outputs": [],
   "source": [
    "ax = pd.DataFrame(halfresults_dict).plot(marker='o', alpha=0.2)\n",
    "ax.set_xticks(Ds)\n",
    "plt.savefig('parity-half.pdf')\n",
    "plt.grid(True)"
   ]
  },
  {
   "cell_type": "code",
   "execution_count": null,
   "id": "edec0b40-034b-47a2-a3a2-ef9c2ddbe25f",
   "metadata": {},
   "outputs": [],
   "source": [
    "quarterresults_dict = {mname : {} for mname, _ in method_infos} \n",
    "for D in [7]:\n",
    "    X = np.array(list(itertools.product([False, True], repeat=D))).astype(int)\n",
    "    N = X.shape[0]\n",
    "    y = np.sum(X, axis=1) % 2\n",
    "    for mname, method in method_infos:\n",
    "        y_test_agg = []\n",
    "        y_test_pred_agg = []\n",
    "        for n in range(N):\n",
    "            X_train = np.r_[X[0:n, :], X[n+1:, :]]\n",
    "            y_train = np.r_[y[0:n], y[n+1:]]\n",
    "            rng = check_random_state(n)\n",
    "            train_ixs = rng.choice(N - 1, size=N // 4, replace=False)\n",
    "            X_train = X_train[train_ixs, :]\n",
    "            y_train = y_train[train_ixs]\n",
    "            X_test = X[n:n+1, :]\n",
    "            y_test = y[n:n+1]\n",
    "            method.fit(X_train, y_train)\n",
    "            y_test_pred = method.predict(X_test)\n",
    "            y_test_agg.append(y_test)\n",
    "            y_test_pred_agg.append(y_test_pred)\n",
    "        y_test_agg = np.concatenate(y_test_agg)\n",
    "        y_test_pred_agg = np.concatenate(y_test_pred_agg)\n",
    "        acc = np.mean(y_test_agg == y_test_pred_agg)\n",
    "        print(D, mname, acc)\n",
    "        quarterresults_dict[mname][D] = acc"
   ]
  },
  {
   "cell_type": "code",
   "execution_count": null,
   "id": "14cbbc6a-07a0-41cb-831c-af512698aef1",
   "metadata": {},
   "outputs": [],
   "source": [
    "ax = pd.DataFrame(quarterresults_dict).plot(marker='o')\n",
    "ax.set_xticks(Ds)\n",
    "plt.savefig('parity-quarter.pdf')\n",
    "plt.grid(True)"
   ]
  },
  {
   "cell_type": "code",
   "execution_count": null,
   "id": "f6fc608c-96db-4805-a17d-ecec84f6bcac",
   "metadata": {},
   "outputs": [],
   "source": [
    "constantresults_dict = {mname : {} for mname, _ in method_infos} \n",
    "for D in list(range(7, 14)):\n",
    "    X = np.array(list(itertools.product([False, True], repeat=D))).astype(int)\n",
    "    N = X.shape[0]\n",
    "    y = np.sum(X, axis=1) % 2\n",
    "    for mname, method in method_infos:\n",
    "        y_test_agg = []\n",
    "        y_test_pred_agg = []\n",
    "        for n in range(N):\n",
    "            X_train = np.r_[X[0:n, :], X[n+1:, :]]\n",
    "            y_train = np.r_[y[0:n], y[n+1:]]\n",
    "            rng = check_random_state(n)\n",
    "            train_ixs = rng.choice(N - 1, size=2 ** 7 - 1, replace=False)\n",
    "            X_train = X_train[train_ixs, :]\n",
    "            y_train = y_train[train_ixs]\n",
    "            X_test = X[n:n+1, :]\n",
    "            y_test = y[n:n+1]\n",
    "            method.fit(X_train, y_train)\n",
    "            y_test_pred = method.predict(X_test)\n",
    "            y_test_agg.append(y_test)\n",
    "            y_test_pred_agg.append(y_test_pred)\n",
    "        y_test_agg = np.concatenate(y_test_agg)\n",
    "        y_test_pred_agg = np.concatenate(y_test_pred_agg)\n",
    "        acc = np.mean(y_test_agg == y_test_pred_agg)\n",
    "        print(D, mname, acc)\n",
    "        constantresults_dict[mname][D] = acc"
   ]
  },
  {
   "cell_type": "code",
   "execution_count": null,
   "id": "295be0a0-1fa6-4015-bb27-f890f86461b9",
   "metadata": {},
   "outputs": [],
   "source": [
    "ax = pd.DataFrame(constantresults_dict).plot(marker='o')\n",
    "ax.set_xticks(Ds)\n",
    "plt.savefig('parity-constant.pdf')\n",
    "plt.grid(True)"
   ]
  }
 ],
 "metadata": {
  "kernelspec": {
   "display_name": "Python 3 (ipykernel)",
   "language": "python",
   "name": "python3"
  },
  "language_info": {
   "codemirror_mode": {
    "name": "ipython",
    "version": 3
   },
   "file_extension": ".py",
   "mimetype": "text/x-python",
   "name": "python",
   "nbconvert_exporter": "python",
   "pygments_lexer": "ipython3",
   "version": "3.9.21"
  }
 },
 "nbformat": 4,
 "nbformat_minor": 5
}
